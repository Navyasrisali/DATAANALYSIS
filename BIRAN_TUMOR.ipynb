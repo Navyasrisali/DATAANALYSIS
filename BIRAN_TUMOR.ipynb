{
  "nbformat": 4,
  "nbformat_minor": 0,
  "metadata": {
    "colab": {
      "provenance": []
    },
    "kernelspec": {
      "name": "python3",
      "display_name": "Python 3"
    },
    "language_info": {
      "name": "python"
    }
  },
  "cells": [
    {
      "cell_type": "code",
      "execution_count": null,
      "metadata": {
        "id": "EyrdiV3D1w7j"
      },
      "outputs": [],
      "source": [
        "import tensorflow as tf\n",
        "from tensorflow import keras\n",
        "from tensorflow.keras import layers\n",
        "from tensorflow.keras.preprocessing.image import ImageDataGenerator\n",
        "IMG_SIZE=24\n",
        "BATCH_SIZE=32\n"
      ]
    },
    {
      "cell_type": "code",
      "source": [
        "train_datagen = ImageDataGenerator(\n",
        "    rescale=1./255,\n",
        "    validation_split=0.2\n",
        ")"
      ],
      "metadata": {
        "id": "wjMik6Px3MUC"
      },
      "execution_count": null,
      "outputs": []
    },
    {
      "cell_type": "code",
      "source": [
        "train_generator = train_datagen.flow_from_directory(\n",
        "    '/content/drive/MyDrive/Colab Notebooks/Brain_Tumor_Detection/Brain_Tumor_Detection/train',\n",
        "    target_size=(IMG_SIZE, IMG_SIZE),\n",
        "    batch_size=BATCH_SIZE,\n",
        "    class_mode='binary',\n",
        "    subset='training'\n",
        ")\n"
      ],
      "metadata": {
        "colab": {
          "base_uri": "https://localhost:8080/"
        },
        "id": "P6A8jRsr3oXq",
        "outputId": "429abf19-7ab6-4a6f-ab91-269bf45038d9"
      },
      "execution_count": null,
      "outputs": [
        {
          "output_type": "stream",
          "name": "stdout",
          "text": [
            "Found 2406 images belonging to 2 classes.\n"
          ]
        }
      ]
    },
    {
      "cell_type": "code",
      "source": [
        "val_generator = train_datagen.flow_from_directory(\n",
        "    '/content/drive/MyDrive/Colab Notebooks/Brain_Tumor_Detection/Brain_Tumor_Detection/train',\n",
        "    target_size=(IMG_SIZE, IMG_SIZE),\n",
        "    batch_size=BATCH_SIZE,\n",
        "    class_mode='binary',\n",
        "    subset='validation'\n",
        ")\n"
      ],
      "metadata": {
        "colab": {
          "base_uri": "https://localhost:8080/"
        },
        "id": "WvNxBf908Otw",
        "outputId": "13c0024c-93de-4ef9-91d5-e7d515e4ea8c"
      },
      "execution_count": null,
      "outputs": [
        {
          "output_type": "stream",
          "name": "stdout",
          "text": [
            "Found 601 images belonging to 2 classes.\n"
          ]
        }
      ]
    },
    {
      "cell_type": "code",
      "source": [
        "test_datagen = ImageDataGenerator(rescale=1./255)\n",
        "\n",
        "test_generator = test_datagen.flow_from_directory(\n",
        "    '/content/drive/MyDrive/Colab Notebooks/Brain_Tumor_Detection/Brain_Tumor_Detection/test',\n",
        "    target_size=(IMG_SIZE, IMG_SIZE),\n",
        "    batch_size=BATCH_SIZE,\n",
        "    class_mode='binary'\n",
        ")"
      ],
      "metadata": {
        "colab": {
          "base_uri": "https://localhost:8080/"
        },
        "id": "-V0Hhc87AUJ2",
        "outputId": "546e57cf-1f50-4b97-9142-96f8ac38ae3a"
      },
      "execution_count": null,
      "outputs": [
        {
          "output_type": "stream",
          "name": "stdout",
          "text": [
            "Found 60 images belonging to 1 classes.\n"
          ]
        }
      ]
    },
    {
      "cell_type": "code",
      "source": [
        "# Define the model\n",
        "model = keras.Sequential([\n",
        "    layers.Conv2D(32, (3, 3), activation='relu', input_shape=(IMG_SIZE, IMG_SIZE, 3)),\n",
        "    layers.MaxPooling2D((2, 2)),\n",
        "    layers.Conv2D(64, (3, 3), activation='relu'),\n",
        "    layers.MaxPooling2D((2, 2)),\n",
        "    layers.Conv2D(128, (3, 3), activation='relu'),\n",
        "    layers.MaxPooling2D((2, 2)),\n",
        "    layers.Flatten(),\n",
        "    layers.Dense(128, activation='relu'),\n",
        "    layers.Dense(1, activation='sigmoid')\n",
        "])"
      ],
      "metadata": {
        "id": "eWef744vAkKK"
      },
      "execution_count": null,
      "outputs": []
    },
    {
      "cell_type": "code",
      "source": [
        "\n",
        "model.compile(optimizer='adam', loss='binary_crossentropy', metrics=['accuracy'])"
      ],
      "metadata": {
        "id": "OoF82ciPAwrS"
      },
      "execution_count": null,
      "outputs": []
    },
    {
      "cell_type": "code",
      "source": [
        "history = model.fit(train_generator,validation_data=val_generator,epochs=5)"
      ],
      "metadata": {
        "colab": {
          "base_uri": "https://localhost:8080/"
        },
        "id": "cUdCmpvyA4ha",
        "outputId": "213d0253-ad0e-4e47-8395-2bb19fa27ff2"
      },
      "execution_count": null,
      "outputs": [
        {
          "output_type": "stream",
          "name": "stdout",
          "text": [
            "Epoch 1/5\n",
            "76/76 [==============================] - 343s 4s/step - loss: 0.5980 - accuracy: 0.6717 - val_loss: 0.5604 - val_accuracy: 0.7354\n",
            "Epoch 2/5\n",
            "76/76 [==============================] - 20s 260ms/step - loss: 0.4606 - accuracy: 0.7826 - val_loss: 0.4742 - val_accuracy: 0.8220\n",
            "Epoch 3/5\n",
            "76/76 [==============================] - 25s 326ms/step - loss: 0.3645 - accuracy: 0.8412 - val_loss: 0.4913 - val_accuracy: 0.7454\n",
            "Epoch 4/5\n",
            "76/76 [==============================] - 21s 271ms/step - loss: 0.2946 - accuracy: 0.8849 - val_loss: 0.2288 - val_accuracy: 0.9201\n",
            "Epoch 5/5\n",
            "76/76 [==============================] - 20s 268ms/step - loss: 0.1913 - accuracy: 0.9289 - val_loss: 0.1606 - val_accuracy: 0.9468\n"
          ]
        }
      ]
    },
    {
      "cell_type": "code",
      "source": [
        "model.save(\"Model.h5\",\"label.txt\")"
      ],
      "metadata": {
        "colab": {
          "base_uri": "https://localhost:8080/"
        },
        "id": "IG71SUPPDlNY",
        "outputId": "a4275bd5-ae50-4666-b4c6-afbfb2669e59"
      },
      "execution_count": null,
      "outputs": [
        {
          "output_type": "stream",
          "name": "stderr",
          "text": [
            "/usr/local/lib/python3.10/dist-packages/keras/src/engine/training.py:3103: UserWarning: You are saving your model as an HDF5 file via `model.save()`. This file format is considered legacy. We recommend using instead the native Keras format, e.g. `model.save('my_model.keras')`.\n",
            "  saving_api.save_model(\n"
          ]
        }
      ]
    },
    {
      "cell_type": "code",
      "source": [
        "from keras.models import load_model  # TensorFlow is required for Keras to work\n",
        "from PIL import Image, ImageOps  # Install pillow instead of PIL\n",
        "from tensorflow.keras.preprocessing import image\n",
        "import numpy as np\n",
        "#load the model\n",
        "model = load_model('/content/Model.h5')\n",
        "#Load andd preprocessor\n",
        "test_image_path='/content/drive/MyDrive/Colab Notebooks/Brain_Tumor_Detection/Brain_Tumor_Detection/test/pred/pred0.jpg'\n",
        "img=image.load_img(test_image_path,target_size=(24,24,3))\n",
        "img_array=image.img_to_array(img)\n",
        "img_array=np.expand_dims(img_array,axis=0)#Add batch dimension\n",
        "img_array/=255. #Normalize thepixel values\n",
        "\n",
        "#Make prediction\n",
        "prediction=model.predict(img_array)\n",
        "\n",
        "#print the prediction\n",
        "if prediction < 0.5:\n",
        "  print(\"Prediction:No tumor (Probability:\",prediction[0][0],\")\")\n",
        "else:\n",
        "  print(\"Prediction:Tumor present (Probability:\",prediction[0][0],\")\")"
      ],
      "metadata": {
        "colab": {
          "base_uri": "https://localhost:8080/"
        },
        "id": "V-pP4sanFQEi",
        "outputId": "6a15049b-5fb7-457f-c37b-ded8db86cd3b"
      },
      "execution_count": null,
      "outputs": [
        {
          "output_type": "stream",
          "name": "stdout",
          "text": [
            "1/1 [==============================] - 0s 142ms/step\n",
            "Prediction:No tumor (Probability: 0.01079794 )\n"
          ]
        }
      ]
    },
    {
      "cell_type": "code",
      "source": [
        "from keras.models import load_model  # TensorFlow is required for Keras to work\n",
        "from PIL import Image, ImageOps  # Install pillow instead of PIL\n",
        "from tensorflow.keras.preprocessing import image\n",
        "import numpy as np\n",
        "#load the model\n",
        "model = load_model('/content/Model.h5')\n",
        "#Load andd preprocessor\n",
        "test_image_path='/content/drive/MyDrive/Colab Notebooks/Brain_Tumor_Detection/Brain_Tumor_Detection/test/pred/pred0.jpg'\n",
        "img=image.load_img(test_image_path,target_size=(24,24,3))\n",
        "img_array=image.img_to_array(img)\n",
        "img_array=np.expand_dims(img_array,axis=0)#Add batch dimension\n",
        "img_array/=255. #Normalize thepixel values\n",
        "\n",
        "#Make prediction\n",
        "prediction=model.predict(img_array)\n",
        "\n",
        "#print the prediction\n",
        "if prediction < 0.5:\n",
        "  print(\"Prediction:No tumor (Probability:\",prediction[0][0],\")\")\n",
        "else:\n",
        "  print(\"Prediction:Tumor present (Probability:\",prediction[0][0],\")\")"
      ],
      "metadata": {
        "colab": {
          "base_uri": "https://localhost:8080/"
        },
        "id": "lSYscswvBYuM",
        "outputId": "6302fe12-feb0-449c-df8e-6bc210a42cdf"
      },
      "execution_count": null,
      "outputs": [
        {
          "output_type": "stream",
          "name": "stdout",
          "text": [
            "1/1 [==============================] - 0s 91ms/step\n",
            "Prediction:No tumor (Probability: 0.01079794 )\n"
          ]
        }
      ]
    },
    {
      "cell_type": "code",
      "source": [],
      "metadata": {
        "id": "r1U2zz2CeZcE"
      },
      "execution_count": null,
      "outputs": []
    }
  ]
}