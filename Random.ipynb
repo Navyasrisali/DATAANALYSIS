{
  "nbformat": 4,
  "nbformat_minor": 0,
  "metadata": {
    "colab": {
      "provenance": []
    },
    "kernelspec": {
      "name": "python3",
      "display_name": "Python 3"
    },
    "language_info": {
      "name": "python"
    }
  },
  "cells": [
    {
      "cell_type": "code",
      "execution_count": null,
      "metadata": {
        "id": "eSK1I3rrOvrJ"
      },
      "outputs": [],
      "source": [
        "import pandas as pd\n",
        "import numpy as np\n",
        "from sklearn.ensemble import RandomForestClassifier"
      ]
    },
    {
      "cell_type": "code",
      "source": [
        "df=pd.read_csv('/content/drive/MyDrive/dataset/demoDT.csv',sep=',')\n"
      ],
      "metadata": {
        "id": "bn-fie7yPIhH"
      },
      "execution_count": null,
      "outputs": []
    },
    {
      "cell_type": "code",
      "source": [
        "feature_cols = ['Literacy',' Cleanliness',' Crime_Rate']\n",
        "feature=df[feature_cols]\n",
        "Target = df.Good"
      ],
      "metadata": {
        "id": "mdGBlfApQHGF"
      },
      "execution_count": null,
      "outputs": []
    },
    {
      "cell_type": "code",
      "source": [
        "RF=RandomForestClassifier(n_estimators=10)\n",
        "RF.fit(feature,Target)"
      ],
      "metadata": {
        "colab": {
          "base_uri": "https://localhost:8080/",
          "height": 75
        },
        "id": "PDYmR0OpQljZ",
        "outputId": "175d8489-0083-4b95-c111-4741b3ddd32f"
      },
      "execution_count": null,
      "outputs": [
        {
          "output_type": "execute_result",
          "data": {
            "text/plain": [
              "RandomForestClassifier(n_estimators=10)"
            ],
            "text/html": [
              "<style>#sk-container-id-1 {color: black;background-color: white;}#sk-container-id-1 pre{padding: 0;}#sk-container-id-1 div.sk-toggleable {background-color: white;}#sk-container-id-1 label.sk-toggleable__label {cursor: pointer;display: block;width: 100%;margin-bottom: 0;padding: 0.3em;box-sizing: border-box;text-align: center;}#sk-container-id-1 label.sk-toggleable__label-arrow:before {content: \"▸\";float: left;margin-right: 0.25em;color: #696969;}#sk-container-id-1 label.sk-toggleable__label-arrow:hover:before {color: black;}#sk-container-id-1 div.sk-estimator:hover label.sk-toggleable__label-arrow:before {color: black;}#sk-container-id-1 div.sk-toggleable__content {max-height: 0;max-width: 0;overflow: hidden;text-align: left;background-color: #f0f8ff;}#sk-container-id-1 div.sk-toggleable__content pre {margin: 0.2em;color: black;border-radius: 0.25em;background-color: #f0f8ff;}#sk-container-id-1 input.sk-toggleable__control:checked~div.sk-toggleable__content {max-height: 200px;max-width: 100%;overflow: auto;}#sk-container-id-1 input.sk-toggleable__control:checked~label.sk-toggleable__label-arrow:before {content: \"▾\";}#sk-container-id-1 div.sk-estimator input.sk-toggleable__control:checked~label.sk-toggleable__label {background-color: #d4ebff;}#sk-container-id-1 div.sk-label input.sk-toggleable__control:checked~label.sk-toggleable__label {background-color: #d4ebff;}#sk-container-id-1 input.sk-hidden--visually {border: 0;clip: rect(1px 1px 1px 1px);clip: rect(1px, 1px, 1px, 1px);height: 1px;margin: -1px;overflow: hidden;padding: 0;position: absolute;width: 1px;}#sk-container-id-1 div.sk-estimator {font-family: monospace;background-color: #f0f8ff;border: 1px dotted black;border-radius: 0.25em;box-sizing: border-box;margin-bottom: 0.5em;}#sk-container-id-1 div.sk-estimator:hover {background-color: #d4ebff;}#sk-container-id-1 div.sk-parallel-item::after {content: \"\";width: 100%;border-bottom: 1px solid gray;flex-grow: 1;}#sk-container-id-1 div.sk-label:hover label.sk-toggleable__label {background-color: #d4ebff;}#sk-container-id-1 div.sk-serial::before {content: \"\";position: absolute;border-left: 1px solid gray;box-sizing: border-box;top: 0;bottom: 0;left: 50%;z-index: 0;}#sk-container-id-1 div.sk-serial {display: flex;flex-direction: column;align-items: center;background-color: white;padding-right: 0.2em;padding-left: 0.2em;position: relative;}#sk-container-id-1 div.sk-item {position: relative;z-index: 1;}#sk-container-id-1 div.sk-parallel {display: flex;align-items: stretch;justify-content: center;background-color: white;position: relative;}#sk-container-id-1 div.sk-item::before, #sk-container-id-1 div.sk-parallel-item::before {content: \"\";position: absolute;border-left: 1px solid gray;box-sizing: border-box;top: 0;bottom: 0;left: 50%;z-index: -1;}#sk-container-id-1 div.sk-parallel-item {display: flex;flex-direction: column;z-index: 1;position: relative;background-color: white;}#sk-container-id-1 div.sk-parallel-item:first-child::after {align-self: flex-end;width: 50%;}#sk-container-id-1 div.sk-parallel-item:last-child::after {align-self: flex-start;width: 50%;}#sk-container-id-1 div.sk-parallel-item:only-child::after {width: 0;}#sk-container-id-1 div.sk-dashed-wrapped {border: 1px dashed gray;margin: 0 0.4em 0.5em 0.4em;box-sizing: border-box;padding-bottom: 0.4em;background-color: white;}#sk-container-id-1 div.sk-label label {font-family: monospace;font-weight: bold;display: inline-block;line-height: 1.2em;}#sk-container-id-1 div.sk-label-container {text-align: center;}#sk-container-id-1 div.sk-container {/* jupyter's `normalize.less` sets `[hidden] { display: none; }` but bootstrap.min.css set `[hidden] { display: none !important; }` so we also need the `!important` here to be able to override the default hidden behavior on the sphinx rendered scikit-learn.org. See: https://github.com/scikit-learn/scikit-learn/issues/21755 */display: inline-block !important;position: relative;}#sk-container-id-1 div.sk-text-repr-fallback {display: none;}</style><div id=\"sk-container-id-1\" class=\"sk-top-container\"><div class=\"sk-text-repr-fallback\"><pre>RandomForestClassifier(n_estimators=10)</pre><b>In a Jupyter environment, please rerun this cell to show the HTML representation or trust the notebook. <br />On GitHub, the HTML representation is unable to render, please try loading this page with nbviewer.org.</b></div><div class=\"sk-container\" hidden><div class=\"sk-item\"><div class=\"sk-estimator sk-toggleable\"><input class=\"sk-toggleable__control sk-hidden--visually\" id=\"sk-estimator-id-1\" type=\"checkbox\" checked><label for=\"sk-estimator-id-1\" class=\"sk-toggleable__label sk-toggleable__label-arrow\">RandomForestClassifier</label><div class=\"sk-toggleable__content\"><pre>RandomForestClassifier(n_estimators=10)</pre></div></div></div></div></div>"
            ]
          },
          "metadata": {},
          "execution_count": 6
        }
      ]
    },
    {
      "cell_type": "code",
      "source": [
        "l=int(input(\"Enter Literacy\"))\n",
        "cl=int(input(\"Enter Clenliness:\"))\n",
        "cr=int(input(\"Enter CrimeRate:\"))\n",
        "pred=RF.predict([[l,cl,cr]])\n",
        "if pred==1:\n",
        "  print(\"Good State\")\n",
        "else:\n",
        "  print(\"Bad state\")"
      ],
      "metadata": {
        "colab": {
          "base_uri": "https://localhost:8080/"
        },
        "id": "OljgDf3GQ7Mh",
        "outputId": "8c108365-1176-478a-a22e-b9da29516ccb"
      },
      "execution_count": null,
      "outputs": [
        {
          "output_type": "stream",
          "name": "stdout",
          "text": [
            "Enter Literacy45\n",
            "Enter Clenliness:50\n",
            "Enter CrimeRate:90\n",
            "Bad state\n"
          ]
        },
        {
          "output_type": "stream",
          "name": "stderr",
          "text": [
            "/usr/local/lib/python3.10/dist-packages/sklearn/base.py:439: UserWarning: X does not have valid feature names, but RandomForestClassifier was fitted with feature names\n",
            "  warnings.warn(\n"
          ]
        }
      ]
    },
    {
      "cell_type": "code",
      "source": [
        "import os\n",
        "output_dir=\"tree_visualizations\"\n",
        "os.makedirs(output_dir,exist_ok=True)"
      ],
      "metadata": {
        "id": "27rfYb4bRNo1"
      },
      "execution_count": null,
      "outputs": []
    },
    {
      "cell_type": "code",
      "source": [
        "RF.estimators_"
      ],
      "metadata": {
        "colab": {
          "base_uri": "https://localhost:8080/"
        },
        "id": "t2VrDQ2aRGyp",
        "outputId": "80a19338-1bb0-4de3-8e52-632065b205c1"
      },
      "execution_count": null,
      "outputs": [
        {
          "output_type": "execute_result",
          "data": {
            "text/plain": [
              "[DecisionTreeClassifier(max_features='sqrt', random_state=2131390148),\n",
              " DecisionTreeClassifier(max_features='sqrt', random_state=828177140),\n",
              " DecisionTreeClassifier(max_features='sqrt', random_state=450507724),\n",
              " DecisionTreeClassifier(max_features='sqrt', random_state=659867761),\n",
              " DecisionTreeClassifier(max_features='sqrt', random_state=871889781),\n",
              " DecisionTreeClassifier(max_features='sqrt', random_state=1157757035),\n",
              " DecisionTreeClassifier(max_features='sqrt', random_state=1304006663),\n",
              " DecisionTreeClassifier(max_features='sqrt', random_state=1351645013),\n",
              " DecisionTreeClassifier(max_features='sqrt', random_state=1607989798),\n",
              " DecisionTreeClassifier(max_features='sqrt', random_state=1541296764)]"
            ]
          },
          "metadata": {},
          "execution_count": 10
        }
      ]
    },
    {
      "cell_type": "code",
      "source": [
        " import numpy as np\n",
        "from scipy import stats\n",
        "\n",
        "# Sample data (random numbers)\n",
        "np.random.seed(42)  # for reproducibility\n",
        "sample_data = np.random.normal(loc=10, scale=2, size=30)  # sample of 30 observations from a normal distribution with mean 10 and standard deviation 2\n",
        "\n",
        "# Population parameters\n",
        "population_mean = 10  # hypothesized population mean\n",
        "\n",
        "# Perform one-sample t-test\n",
        "t_statistic, p_value = stats.ttest_1samp(sample_data, population_mean)\n",
        "\n",
        "# Interpret the results\n",
        "alpha = 0.05  # significance level\n",
        "print(\"t-statistic:\", t_statistic)\n",
        "print(\"p-value:\", p_value)\n",
        "\n",
        "if p_value < alpha:\n",
        "    print(\"Reject the null hypothesis. There is enough evidence to suggest that the sample mean differs significantly from the population mean.\")\n",
        "else:\n",
        "    print(\"Fail to reject the null hypothesis. There is not enough evidence to suggest that the sample mean differs significantly from the population mean.\")"
      ],
      "metadata": {
        "colab": {
          "base_uri": "https://localhost:8080/"
        },
        "id": "7HA2uVX_pEuF",
        "outputId": "0f43295c-4f28-44ec-c740-c28885253c9c"
      },
      "execution_count": null,
      "outputs": [
        {
          "output_type": "stream",
          "name": "stdout",
          "text": [
            "t-statistic: -1.1450173670383255\n",
            "p-value: 0.2615641461880169\n",
            "Fail to reject the null hypothesis. There is not enough evidence to suggest that the sample mean differs significantly from the population mean.\n"
          ]
        }
      ]
    },
    {
      "cell_type": "code",
      "source": [
        "import random\n",
        "import pandas as pd\n",
        "np.random.seed(0)\n",
        "data=pd.DataFrame({\n",
        "    'Treatment':np.random.choice(['A','B','C'],size=100),\n",
        "    'Score':np.random.normal(loc=10,scale=2,size=100)\n",
        "})\n",
        "print(data)"
      ],
      "metadata": {
        "colab": {
          "base_uri": "https://localhost:8080/"
        },
        "id": "1fjZVuUd2SSY",
        "outputId": "02b25363-1376-4cec-9929-24b0bb434779"
      },
      "execution_count": null,
      "outputs": [
        {
          "output_type": "stream",
          "name": "stdout",
          "text": [
            "   Treatment      Score\n",
            "0          A   8.626821\n",
            "1          B  10.029747\n",
            "2          A   9.248668\n",
            "3          B   9.923553\n",
            "4          B  10.735949\n",
            "..       ...        ...\n",
            "95         A   9.933528\n",
            "96         C  10.131283\n",
            "97         A  10.531571\n",
            "98         B  12.303684\n",
            "99         C  10.276086\n",
            "\n",
            "[100 rows x 2 columns]\n"
          ]
        }
      ]
    },
    {
      "cell_type": "code",
      "source": [
        "mean_score_per_group=data.groupby('Treatment')['Score'].mean()\n",
        "print(mean_score_per_group)"
      ],
      "metadata": {
        "colab": {
          "base_uri": "https://localhost:8080/"
        },
        "id": "paqJfp6d3C0P",
        "outputId": "6a5878ac-4217-4c9b-93a4-3c7109a40c4c"
      },
      "execution_count": null,
      "outputs": [
        {
          "output_type": "stream",
          "name": "stdout",
          "text": [
            "Treatment\n",
            "A     9.611241\n",
            "B    10.099304\n",
            "C    10.010667\n",
            "Name: Score, dtype: float64\n"
          ]
        }
      ]
    },
    {
      "cell_type": "code",
      "source": [
        "\n",
        "group_A=data[data['Treatment']=='A']['Score']\n",
        "group_B=data[data['Treatment']=='B']['Score']\n",
        "t_stat,p_value=stats.ttest_ind(group_A,group_B)\n",
        "print(\"t_statistic:\",t_stat)\n",
        "print(\"p_value:\",p_value)"
      ],
      "metadata": {
        "colab": {
          "base_uri": "https://localhost:8080/"
        },
        "id": "mfLx7Yzk3onP",
        "outputId": "05e6a86a-c3ba-4d0f-820e-a3678a7f8574"
      },
      "execution_count": null,
      "outputs": [
        {
          "output_type": "stream",
          "name": "stdout",
          "text": [
            "t_statistic: -1.0341676575352792\n",
            "p_value: 0.3045674995802033\n"
          ]
        }
      ]
    },
    {
      "cell_type": "code",
      "source": [
        "#ANOVA\n",
        "f_stat,p_value=stats.f_oneway(data[data['Treatment']=='A']['Score'],\n",
        "                              data[data['Treatment']=='B']['Score'],\n",
        "                              data[data['Treatment']=='C']['Score'])\n",
        "print(\"F-statistic:\",f_stat)\n",
        "print(\"p-value:\",p_value)"
      ],
      "metadata": {
        "colab": {
          "base_uri": "https://localhost:8080/"
        },
        "id": "lJEtFLR95gR-",
        "outputId": "19bddf55-8384-4496-81e7-e8ae21abdc74"
      },
      "execution_count": null,
      "outputs": [
        {
          "output_type": "stream",
          "name": "stdout",
          "text": [
            "F-statistic: 0.6019178068930898\n",
            "p-value: 0.5497930622874936\n"
          ]
        }
      ]
    },
    {
      "cell_type": "code",
      "source": [
        "import numpy as np\n",
        "volume_data=np.random.rand(1000000)\n",
        "print(\"volume of data:\",len(volume_data))"
      ],
      "metadata": {
        "colab": {
          "base_uri": "https://localhost:8080/"
        },
        "id": "YUCRqwyoMC-1",
        "outputId": "68ce74a7-93de-49d9-d2e0-302bffcb54a4"
      },
      "execution_count": null,
      "outputs": [
        {
          "output_type": "stream",
          "name": "stdout",
          "text": [
            "volume of data: 1000000\n"
          ]
        }
      ]
    },
    {
      "cell_type": "code",
      "source": [
        "import time\n",
        "for i in range(10):\n",
        "  velocity_data=np.random.rand()\n",
        "  print(\"velocity data point:\",velocity_data)\n",
        "  time.sleep(2)"
      ],
      "metadata": {
        "colab": {
          "base_uri": "https://localhost:8080/"
        },
        "id": "eIopQkB9MPyM",
        "outputId": "37572d40-4e48-4b2b-9211-1d1ff8d2f00c"
      },
      "execution_count": null,
      "outputs": [
        {
          "output_type": "stream",
          "name": "stdout",
          "text": [
            "velocity data point: 0.17956995778779572\n",
            "velocity data point: 0.8287327166125406\n",
            "velocity data point: 0.12395463168569587\n",
            "velocity data point: 0.13806718534734097\n",
            "velocity data point: 0.6235841668740782\n",
            "velocity data point: 0.9837818328582362\n",
            "velocity data point: 0.7101559234547999\n",
            "velocity data point: 0.3372184215285636\n",
            "velocity data point: 0.7204097829446564\n",
            "velocity data point: 0.699510184520311\n"
          ]
        }
      ]
    },
    {
      "cell_type": "code",
      "source": [
        "structured_data={'id':1,'name':'jhon','age':30}\n",
        "print(structured_data)\n",
        "semi_structured_data={'person':{'name':'Alice','age':25,'city':'Newyork'}}\n",
        "unstructured_data=\"This is a sample text document.It can contain any information in free form\""
      ],
      "metadata": {
        "colab": {
          "base_uri": "https://localhost:8080/"
        },
        "id": "kYnAvl64NIsO",
        "outputId": "d5a5cfb6-3ab1-441d-ec25-4f89d2a83c94"
      },
      "execution_count": null,
      "outputs": [
        {
          "output_type": "stream",
          "name": "stdout",
          "text": [
            "{'id': 1, 'name': 'jhon', 'age': 30}\n"
          ]
        }
      ]
    },
    {
      "cell_type": "code",
      "source": [
        "\n",
        "import random\n",
        "\n",
        "# Generate some random data with noise\n",
        "veracity_data = [[random.choice([1, 2, 3, None]) for _ in range(20)]]\n",
        "\n",
        "# Print the veracity data\n",
        "print(\"Veracity data:\", veracity_data)\n"
      ],
      "metadata": {
        "colab": {
          "base_uri": "https://localhost:8080/"
        },
        "id": "n-TWqwBBO2_E",
        "outputId": "1d29d9c8-425d-4805-e533-2f6e0f353e88"
      },
      "execution_count": null,
      "outputs": [
        {
          "output_type": "stream",
          "name": "stdout",
          "text": [
            "Veracity data: [[2, 1, 1, 2, None, 2, None, 3, None, 2, 3, 1, 3, 3, 2, 2, 1, 3, 1, 1]]\n"
          ]
        }
      ]
    },
    {
      "cell_type": "code",
      "source": [],
      "metadata": {
        "id": "ClG4lrgpO1Yb"
      },
      "execution_count": null,
      "outputs": []
    }
  ]
}